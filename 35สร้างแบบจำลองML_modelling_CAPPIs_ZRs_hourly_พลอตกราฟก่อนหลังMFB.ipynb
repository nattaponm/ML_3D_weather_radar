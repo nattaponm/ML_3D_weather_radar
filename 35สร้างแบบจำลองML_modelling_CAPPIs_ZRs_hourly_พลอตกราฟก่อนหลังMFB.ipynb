{
 "cells": [
  {
   "cell_type": "markdown",
   "id": "20588537-8213-4520-b3ce-ba64cacbcf59",
   "metadata": {},
   "source": [
    "# ML modelling เอาเฉพาะที่ดีที่สุดในแต่ละ ZR เน้นลด MFB hourly\n",
    "* CAPPI 2 km vs the best ZR in MFB\n"
   ]
  },
  {
   "cell_type": "code",
   "execution_count": 1,
   "id": "f8deb2f3-edba-4a6e-88a3-3a9504660ae9",
   "metadata": {},
   "outputs": [],
   "source": [
    "import numpy as np\n",
    "import pandas as pd\n",
    "import matplotlib.pyplot as plt\n",
    "import seaborn as sns\n",
    "import warnings\n",
    "from sklearn.model_selection import RandomizedSearchCV\n",
    "from sklearn.metrics import make_scorer, mean_squared_error, r2_score, mean_absolute_error\n",
    "from sklearn.linear_model import LinearRegression\n",
    "from sklearn.tree import DecisionTreeRegressor\n",
    "from sklearn.ensemble import RandomForestRegressor, GradientBoostingRegressor\n",
    "from scipy.stats import uniform, randint, linregress\n",
    "import xgboost as xgb\n",
    "\n",
    "import geopandas as gpd\n",
    "\n",
    "warnings.filterwarnings('ignore')\n",
    "\n"
   ]
  },
  {
   "cell_type": "markdown",
   "id": "81b2dce3-e2be-4881-9932-6ab15c43c224",
   "metadata": {},
   "source": [
    "## Read and cleansing data"
   ]
  },
  {
   "cell_type": "code",
   "execution_count": 2,
   "id": "c2dfad5b-a1df-491e-a01d-b33a92c22880",
   "metadata": {},
   "outputs": [],
   "source": [
    "df = pd.read_csv('./00Results/00rain_radar_hourly_extracted_all_events_mean_dBZ/df_org_dbz_rain_test120km.csv')\n",
    "df.drop(df[df['rain_x'] <= 0].index, inplace = True) # ทดสอบการตัดฝนอ่อนตรงนี้้ได 0, 0.5,1.0\n",
    "#df.drop(df[df['rain_x'] < 1.0].index, inplace = True) # ทดสอบการตัดฝนอ่อนตรงนี้้ได 0, 0.5,1.0\n",
    "#df.drop(df[df['cappi1km'] < 10].index, inplace = True) #ฝนอ่่อนมากๆ < 10 dBZ\n",
    "#df.drop(df[df['cappi4km'] > 55].index, inplace = True) #ค่าการสะท้อนที่อาจเป็นลูกเห็บ 55 dBZ มุมยกด้านบนสุด\n",
    "df.drop(columns=['Unnamed: 0'], axis=1, inplace=True)\n",
    "#df.reset_index(drop=True)\n",
    "#df.dropna(inplace=True)"
   ]
  },
  {
   "cell_type": "code",
   "execution_count": 3,
   "id": "c4d1585b-697a-44b8-a621-6a080c332b99",
   "metadata": {},
   "outputs": [
    {
     "data": {
      "text/html": [
       "<div>\n",
       "<style scoped>\n",
       "    .dataframe tbody tr th:only-of-type {\n",
       "        vertical-align: middle;\n",
       "    }\n",
       "\n",
       "    .dataframe tbody tr th {\n",
       "        vertical-align: top;\n",
       "    }\n",
       "\n",
       "    .dataframe thead th {\n",
       "        text-align: right;\n",
       "    }\n",
       "</style>\n",
       "<table border=\"1\" class=\"dataframe\">\n",
       "  <thead>\n",
       "    <tr style=\"text-align: right;\">\n",
       "      <th></th>\n",
       "      <th>dBZ_c1</th>\n",
       "      <th>dBZ_c2</th>\n",
       "      <th>dBZ_c3</th>\n",
       "      <th>dBZ_c4</th>\n",
       "      <th>full_date</th>\n",
       "      <th>code</th>\n",
       "      <th>rain_truth</th>\n",
       "    </tr>\n",
       "  </thead>\n",
       "  <tbody>\n",
       "    <tr>\n",
       "      <th>6</th>\n",
       "      <td>NaN</td>\n",
       "      <td>NaN</td>\n",
       "      <td>NaN</td>\n",
       "      <td>NaN</td>\n",
       "      <td>2018-06-01-00:00</td>\n",
       "      <td>CTKN</td>\n",
       "      <td>10.8</td>\n",
       "    </tr>\n",
       "    <tr>\n",
       "      <th>28</th>\n",
       "      <td>NaN</td>\n",
       "      <td>NaN</td>\n",
       "      <td>NaN</td>\n",
       "      <td>NaN</td>\n",
       "      <td>2018-06-01-00:00</td>\n",
       "      <td>NMPR</td>\n",
       "      <td>3.6</td>\n",
       "    </tr>\n",
       "    <tr>\n",
       "      <th>72</th>\n",
       "      <td>22.267728</td>\n",
       "      <td>22.656334</td>\n",
       "      <td>23.252944</td>\n",
       "      <td>23.492632</td>\n",
       "      <td>2018-06-01-01:00</td>\n",
       "      <td>CMSG</td>\n",
       "      <td>0.4</td>\n",
       "    </tr>\n",
       "    <tr>\n",
       "      <th>107</th>\n",
       "      <td>37.450751</td>\n",
       "      <td>35.934908</td>\n",
       "      <td>34.647741</td>\n",
       "      <td>31.643592</td>\n",
       "      <td>2018-06-01-01:00</td>\n",
       "      <td>PIN004</td>\n",
       "      <td>0.2</td>\n",
       "    </tr>\n",
       "    <tr>\n",
       "      <th>138</th>\n",
       "      <td>28.847841</td>\n",
       "      <td>28.025389</td>\n",
       "      <td>26.520176</td>\n",
       "      <td>24.078056</td>\n",
       "      <td>2018-06-01-02:00</td>\n",
       "      <td>CMSG</td>\n",
       "      <td>0.2</td>\n",
       "    </tr>\n",
       "    <tr>\n",
       "      <th>...</th>\n",
       "      <td>...</td>\n",
       "      <td>...</td>\n",
       "      <td>...</td>\n",
       "      <td>...</td>\n",
       "      <td>...</td>\n",
       "      <td>...</td>\n",
       "      <td>...</td>\n",
       "    </tr>\n",
       "    <tr>\n",
       "      <th>68305</th>\n",
       "      <td>NaN</td>\n",
       "      <td>NaN</td>\n",
       "      <td>NaN</td>\n",
       "      <td>NaN</td>\n",
       "      <td>2018-09-21-18:00</td>\n",
       "      <td>CNDN</td>\n",
       "      <td>0.4</td>\n",
       "    </tr>\n",
       "    <tr>\n",
       "      <th>68328</th>\n",
       "      <td>NaN</td>\n",
       "      <td>NaN</td>\n",
       "      <td>NaN</td>\n",
       "      <td>NaN</td>\n",
       "      <td>2018-09-21-18:00</td>\n",
       "      <td>NAN005</td>\n",
       "      <td>1.0</td>\n",
       "    </tr>\n",
       "    <tr>\n",
       "      <th>68334</th>\n",
       "      <td>18.423027</td>\n",
       "      <td>18.423027</td>\n",
       "      <td>18.423027</td>\n",
       "      <td>NaN</td>\n",
       "      <td>2018-09-21-18:00</td>\n",
       "      <td>NGBA</td>\n",
       "      <td>0.8</td>\n",
       "    </tr>\n",
       "    <tr>\n",
       "      <th>68411</th>\n",
       "      <td>29.833809</td>\n",
       "      <td>NaN</td>\n",
       "      <td>NaN</td>\n",
       "      <td>NaN</td>\n",
       "      <td>2018-09-21-19:00</td>\n",
       "      <td>NAN013</td>\n",
       "      <td>24.8</td>\n",
       "    </tr>\n",
       "    <tr>\n",
       "      <th>68450</th>\n",
       "      <td>13.164306</td>\n",
       "      <td>NaN</td>\n",
       "      <td>NaN</td>\n",
       "      <td>NaN</td>\n",
       "      <td>2018-09-21-19:00</td>\n",
       "      <td>WGTG</td>\n",
       "      <td>15.8</td>\n",
       "    </tr>\n",
       "  </tbody>\n",
       "</table>\n",
       "<p>6009 rows × 7 columns</p>\n",
       "</div>"
      ],
      "text/plain": [
       "          dBZ_c1     dBZ_c2     dBZ_c3     dBZ_c4         full_date    code  \\\n",
       "6            NaN        NaN        NaN        NaN  2018-06-01-00:00    CTKN   \n",
       "28           NaN        NaN        NaN        NaN  2018-06-01-00:00    NMPR   \n",
       "72     22.267728  22.656334  23.252944  23.492632  2018-06-01-01:00    CMSG   \n",
       "107    37.450751  35.934908  34.647741  31.643592  2018-06-01-01:00  PIN004   \n",
       "138    28.847841  28.025389  26.520176  24.078056  2018-06-01-02:00    CMSG   \n",
       "...          ...        ...        ...        ...               ...     ...   \n",
       "68305        NaN        NaN        NaN        NaN  2018-09-21-18:00    CNDN   \n",
       "68328        NaN        NaN        NaN        NaN  2018-09-21-18:00  NAN005   \n",
       "68334  18.423027  18.423027  18.423027        NaN  2018-09-21-18:00    NGBA   \n",
       "68411  29.833809        NaN        NaN        NaN  2018-09-21-19:00  NAN013   \n",
       "68450  13.164306        NaN        NaN        NaN  2018-09-21-19:00    WGTG   \n",
       "\n",
       "       rain_truth  \n",
       "6            10.8  \n",
       "28            3.6  \n",
       "72            0.4  \n",
       "107           0.2  \n",
       "138           0.2  \n",
       "...           ...  \n",
       "68305         0.4  \n",
       "68328         1.0  \n",
       "68334         0.8  \n",
       "68411        24.8  \n",
       "68450        15.8  \n",
       "\n",
       "[6009 rows x 7 columns]"
      ]
     },
     "execution_count": 3,
     "metadata": {},
     "output_type": "execute_result"
    }
   ],
   "source": [
    "df.rename(columns={\"cappi1km\": \"dBZ_c1\", \"cappi2km\": \"dBZ_c2\",\"cappi3km\": \"dBZ_c3\",\"cappi4km\": \"dBZ_c4\"}, inplace=True)\n",
    "df.rename(columns={\"rain_x\":\"rain_truth\"}, inplace=True)\n",
    "df"
   ]
  },
  {
   "cell_type": "markdown",
   "id": "98ae8487-591c-49d3-8d10-f1268eeef338",
   "metadata": {},
   "source": [
    "### คำนวณฝนประมาณค่าจากเรดาร์ค่าด้วย ZR Vectorized Operations:"
   ]
  },
  {
   "cell_type": "code",
   "execution_count": 4,
   "id": "5c34030a-aea7-487a-8b93-d00569152039",
   "metadata": {},
   "outputs": [],
   "source": [
    "#  Vectorized Operations:\n",
    "constants = {\n",
    "    'MP': (200, 1.6), # ZR marshall/palmer\n",
    "    'RF': (250, 1.2), # ZR Rosenfeld\n",
    "    'SC': (300, 1.4) # ZR Summer Deep Convection\n",
    "}\n",
    "\n",
    "for prefix, (a, b) in constants.items():\n",
    "    for suffix in ['c1', 'c2', 'c3', 'c4']:\n",
    "        dBZ_column = f'dBZ_{suffix}'\n",
    "        rr_column = f'rr_{prefix}_{suffix}'\n",
    "        df[rr_column] = ((10**(df[dBZ_column]/10.))/a)**(1/b)"
   ]
  },
  {
   "cell_type": "code",
   "execution_count": 5,
   "id": "7fef033a-b7a2-4a14-a8be-ab217e00f503",
   "metadata": {},
   "outputs": [
    {
     "data": {
      "text/html": [
       "<div>\n",
       "<style scoped>\n",
       "    .dataframe tbody tr th:only-of-type {\n",
       "        vertical-align: middle;\n",
       "    }\n",
       "\n",
       "    .dataframe tbody tr th {\n",
       "        vertical-align: top;\n",
       "    }\n",
       "\n",
       "    .dataframe thead th {\n",
       "        text-align: right;\n",
       "    }\n",
       "</style>\n",
       "<table border=\"1\" class=\"dataframe\">\n",
       "  <thead>\n",
       "    <tr style=\"text-align: right;\">\n",
       "      <th></th>\n",
       "      <th>full_date</th>\n",
       "      <th>code</th>\n",
       "      <th>rain_truth</th>\n",
       "      <th>rr_MP_c1</th>\n",
       "      <th>rr_MP_c2</th>\n",
       "      <th>rr_MP_c3</th>\n",
       "      <th>rr_MP_c4</th>\n",
       "      <th>rr_RF_c1</th>\n",
       "      <th>rr_RF_c2</th>\n",
       "      <th>rr_RF_c3</th>\n",
       "      <th>rr_RF_c4</th>\n",
       "      <th>rr_SC_c1</th>\n",
       "      <th>rr_SC_c2</th>\n",
       "      <th>rr_SC_c3</th>\n",
       "      <th>rr_SC_c4</th>\n",
       "    </tr>\n",
       "  </thead>\n",
       "  <tbody>\n",
       "    <tr>\n",
       "      <th>6</th>\n",
       "      <td>2018-06-01-00:00</td>\n",
       "      <td>CTKN</td>\n",
       "      <td>10.8</td>\n",
       "      <td>NaN</td>\n",
       "      <td>NaN</td>\n",
       "      <td>NaN</td>\n",
       "      <td>NaN</td>\n",
       "      <td>NaN</td>\n",
       "      <td>NaN</td>\n",
       "      <td>NaN</td>\n",
       "      <td>NaN</td>\n",
       "      <td>NaN</td>\n",
       "      <td>NaN</td>\n",
       "      <td>NaN</td>\n",
       "      <td>NaN</td>\n",
       "    </tr>\n",
       "    <tr>\n",
       "      <th>28</th>\n",
       "      <td>2018-06-01-00:00</td>\n",
       "      <td>NMPR</td>\n",
       "      <td>3.6</td>\n",
       "      <td>NaN</td>\n",
       "      <td>NaN</td>\n",
       "      <td>NaN</td>\n",
       "      <td>NaN</td>\n",
       "      <td>NaN</td>\n",
       "      <td>NaN</td>\n",
       "      <td>NaN</td>\n",
       "      <td>NaN</td>\n",
       "      <td>NaN</td>\n",
       "      <td>NaN</td>\n",
       "      <td>NaN</td>\n",
       "      <td>NaN</td>\n",
       "    </tr>\n",
       "    <tr>\n",
       "      <th>72</th>\n",
       "      <td>2018-06-01-01:00</td>\n",
       "      <td>CMSG</td>\n",
       "      <td>0.4</td>\n",
       "      <td>0.898647</td>\n",
       "      <td>0.950336</td>\n",
       "      <td>1.035536</td>\n",
       "      <td>1.071879</td>\n",
       "      <td>0.720047</td>\n",
       "      <td>0.775791</td>\n",
       "      <td>0.869885</td>\n",
       "      <td>0.910827</td>\n",
       "      <td>0.662491</td>\n",
       "      <td>0.706216</td>\n",
       "      <td>0.779027</td>\n",
       "      <td>0.810350</td>\n",
       "    </tr>\n",
       "    <tr>\n",
       "      <th>107</th>\n",
       "      <td>2018-06-01-01:00</td>\n",
       "      <td>PIN004</td>\n",
       "      <td>0.2</td>\n",
       "      <td>7.989658</td>\n",
       "      <td>6.423741</td>\n",
       "      <td>5.337527</td>\n",
       "      <td>3.464023</td>\n",
       "      <td>13.262108</td>\n",
       "      <td>9.914991</td>\n",
       "      <td>7.745125</td>\n",
       "      <td>4.351938</td>\n",
       "      <td>8.047877</td>\n",
       "      <td>6.272011</td>\n",
       "      <td>5.075354</td>\n",
       "      <td>3.096594</td>\n",
       "    </tr>\n",
       "    <tr>\n",
       "      <th>138</th>\n",
       "      <td>2018-06-01-02:00</td>\n",
       "      <td>CMSG</td>\n",
       "      <td>0.2</td>\n",
       "      <td>2.316575</td>\n",
       "      <td>2.057989</td>\n",
       "      <td>1.657171</td>\n",
       "      <td>1.166097</td>\n",
       "      <td>2.545092</td>\n",
       "      <td>2.173530</td>\n",
       "      <td>1.628288</td>\n",
       "      <td>1.019111</td>\n",
       "      <td>1.955185</td>\n",
       "      <td>1.707816</td>\n",
       "      <td>1.333294</td>\n",
       "      <td>0.892255</td>\n",
       "    </tr>\n",
       "    <tr>\n",
       "      <th>...</th>\n",
       "      <td>...</td>\n",
       "      <td>...</td>\n",
       "      <td>...</td>\n",
       "      <td>...</td>\n",
       "      <td>...</td>\n",
       "      <td>...</td>\n",
       "      <td>...</td>\n",
       "      <td>...</td>\n",
       "      <td>...</td>\n",
       "      <td>...</td>\n",
       "      <td>...</td>\n",
       "      <td>...</td>\n",
       "      <td>...</td>\n",
       "      <td>...</td>\n",
       "      <td>...</td>\n",
       "    </tr>\n",
       "    <tr>\n",
       "      <th>68305</th>\n",
       "      <td>2018-09-21-18:00</td>\n",
       "      <td>CNDN</td>\n",
       "      <td>0.4</td>\n",
       "      <td>NaN</td>\n",
       "      <td>NaN</td>\n",
       "      <td>NaN</td>\n",
       "      <td>NaN</td>\n",
       "      <td>NaN</td>\n",
       "      <td>NaN</td>\n",
       "      <td>NaN</td>\n",
       "      <td>NaN</td>\n",
       "      <td>NaN</td>\n",
       "      <td>NaN</td>\n",
       "      <td>NaN</td>\n",
       "      <td>NaN</td>\n",
       "    </tr>\n",
       "    <tr>\n",
       "      <th>68328</th>\n",
       "      <td>2018-09-21-18:00</td>\n",
       "      <td>NAN005</td>\n",
       "      <td>1.0</td>\n",
       "      <td>NaN</td>\n",
       "      <td>NaN</td>\n",
       "      <td>NaN</td>\n",
       "      <td>NaN</td>\n",
       "      <td>NaN</td>\n",
       "      <td>NaN</td>\n",
       "      <td>NaN</td>\n",
       "      <td>NaN</td>\n",
       "      <td>NaN</td>\n",
       "      <td>NaN</td>\n",
       "      <td>NaN</td>\n",
       "      <td>NaN</td>\n",
       "    </tr>\n",
       "    <tr>\n",
       "      <th>68334</th>\n",
       "      <td>2018-09-21-18:00</td>\n",
       "      <td>NGBA</td>\n",
       "      <td>0.8</td>\n",
       "      <td>0.516768</td>\n",
       "      <td>0.516768</td>\n",
       "      <td>0.516768</td>\n",
       "      <td>NaN</td>\n",
       "      <td>0.344325</td>\n",
       "      <td>0.344325</td>\n",
       "      <td>0.344325</td>\n",
       "      <td>NaN</td>\n",
       "      <td>0.352013</td>\n",
       "      <td>0.352013</td>\n",
       "      <td>0.352013</td>\n",
       "      <td>NaN</td>\n",
       "    </tr>\n",
       "    <tr>\n",
       "      <th>68411</th>\n",
       "      <td>2018-09-21-19:00</td>\n",
       "      <td>NAN013</td>\n",
       "      <td>24.8</td>\n",
       "      <td>2.669742</td>\n",
       "      <td>NaN</td>\n",
       "      <td>NaN</td>\n",
       "      <td>NaN</td>\n",
       "      <td>3.075158</td>\n",
       "      <td>NaN</td>\n",
       "      <td>NaN</td>\n",
       "      <td>NaN</td>\n",
       "      <td>2.299397</td>\n",
       "      <td>NaN</td>\n",
       "      <td>NaN</td>\n",
       "      <td>NaN</td>\n",
       "    </tr>\n",
       "    <tr>\n",
       "      <th>68450</th>\n",
       "      <td>2018-09-21-19:00</td>\n",
       "      <td>WGTG</td>\n",
       "      <td>15.8</td>\n",
       "      <td>0.242452</td>\n",
       "      <td>NaN</td>\n",
       "      <td>NaN</td>\n",
       "      <td>NaN</td>\n",
       "      <td>0.125528</td>\n",
       "      <td>NaN</td>\n",
       "      <td>NaN</td>\n",
       "      <td>NaN</td>\n",
       "      <td>0.148230</td>\n",
       "      <td>NaN</td>\n",
       "      <td>NaN</td>\n",
       "      <td>NaN</td>\n",
       "    </tr>\n",
       "  </tbody>\n",
       "</table>\n",
       "<p>6009 rows × 15 columns</p>\n",
       "</div>"
      ],
      "text/plain": [
       "              full_date    code  rain_truth  rr_MP_c1  rr_MP_c2  rr_MP_c3  \\\n",
       "6      2018-06-01-00:00    CTKN        10.8       NaN       NaN       NaN   \n",
       "28     2018-06-01-00:00    NMPR         3.6       NaN       NaN       NaN   \n",
       "72     2018-06-01-01:00    CMSG         0.4  0.898647  0.950336  1.035536   \n",
       "107    2018-06-01-01:00  PIN004         0.2  7.989658  6.423741  5.337527   \n",
       "138    2018-06-01-02:00    CMSG         0.2  2.316575  2.057989  1.657171   \n",
       "...                 ...     ...         ...       ...       ...       ...   \n",
       "68305  2018-09-21-18:00    CNDN         0.4       NaN       NaN       NaN   \n",
       "68328  2018-09-21-18:00  NAN005         1.0       NaN       NaN       NaN   \n",
       "68334  2018-09-21-18:00    NGBA         0.8  0.516768  0.516768  0.516768   \n",
       "68411  2018-09-21-19:00  NAN013        24.8  2.669742       NaN       NaN   \n",
       "68450  2018-09-21-19:00    WGTG        15.8  0.242452       NaN       NaN   \n",
       "\n",
       "       rr_MP_c4   rr_RF_c1  rr_RF_c2  rr_RF_c3  rr_RF_c4  rr_SC_c1  rr_SC_c2  \\\n",
       "6           NaN        NaN       NaN       NaN       NaN       NaN       NaN   \n",
       "28          NaN        NaN       NaN       NaN       NaN       NaN       NaN   \n",
       "72     1.071879   0.720047  0.775791  0.869885  0.910827  0.662491  0.706216   \n",
       "107    3.464023  13.262108  9.914991  7.745125  4.351938  8.047877  6.272011   \n",
       "138    1.166097   2.545092  2.173530  1.628288  1.019111  1.955185  1.707816   \n",
       "...         ...        ...       ...       ...       ...       ...       ...   \n",
       "68305       NaN        NaN       NaN       NaN       NaN       NaN       NaN   \n",
       "68328       NaN        NaN       NaN       NaN       NaN       NaN       NaN   \n",
       "68334       NaN   0.344325  0.344325  0.344325       NaN  0.352013  0.352013   \n",
       "68411       NaN   3.075158       NaN       NaN       NaN  2.299397       NaN   \n",
       "68450       NaN   0.125528       NaN       NaN       NaN  0.148230       NaN   \n",
       "\n",
       "       rr_SC_c3  rr_SC_c4  \n",
       "6           NaN       NaN  \n",
       "28          NaN       NaN  \n",
       "72     0.779027  0.810350  \n",
       "107    5.075354  3.096594  \n",
       "138    1.333294  0.892255  \n",
       "...         ...       ...  \n",
       "68305       NaN       NaN  \n",
       "68328       NaN       NaN  \n",
       "68334  0.352013       NaN  \n",
       "68411       NaN       NaN  \n",
       "68450       NaN       NaN  \n",
       "\n",
       "[6009 rows x 15 columns]"
      ]
     },
     "execution_count": 5,
     "metadata": {},
     "output_type": "execute_result"
    }
   ],
   "source": [
    "#### ดรอปคอมลัมน์ cappi ทิ้ง\n",
    "df.drop(columns=['dBZ_c1','dBZ_c2','dBZ_c3','dBZ_c4'], inplace=True) #ลบคอลัน์\n",
    "df"
   ]
  },
  {
   "cell_type": "code",
   "execution_count": 6,
   "id": "c87c33a3-1455-4494-b942-ea3bd642a1c4",
   "metadata": {},
   "outputs": [],
   "source": [
    "df.dropna(inplace=True)\n",
    "df.reset_index(drop=True, inplace=True)"
   ]
  },
  {
   "cell_type": "code",
   "execution_count": 7,
   "id": "7013fba6-988a-4cb9-b6aa-b374c996c6ba",
   "metadata": {},
   "outputs": [
    {
     "data": {
      "text/html": [
       "<div>\n",
       "<style scoped>\n",
       "    .dataframe tbody tr th:only-of-type {\n",
       "        vertical-align: middle;\n",
       "    }\n",
       "\n",
       "    .dataframe tbody tr th {\n",
       "        vertical-align: top;\n",
       "    }\n",
       "\n",
       "    .dataframe thead th {\n",
       "        text-align: right;\n",
       "    }\n",
       "</style>\n",
       "<table border=\"1\" class=\"dataframe\">\n",
       "  <thead>\n",
       "    <tr style=\"text-align: right;\">\n",
       "      <th></th>\n",
       "      <th>full_date</th>\n",
       "      <th>code</th>\n",
       "      <th>rain_truth</th>\n",
       "      <th>rr_MP_c1</th>\n",
       "      <th>rr_MP_c2</th>\n",
       "      <th>rr_MP_c3</th>\n",
       "      <th>rr_MP_c4</th>\n",
       "      <th>rr_RF_c1</th>\n",
       "      <th>rr_RF_c2</th>\n",
       "      <th>rr_RF_c3</th>\n",
       "      <th>rr_RF_c4</th>\n",
       "      <th>rr_SC_c1</th>\n",
       "      <th>rr_SC_c2</th>\n",
       "      <th>rr_SC_c3</th>\n",
       "      <th>rr_SC_c4</th>\n",
       "    </tr>\n",
       "  </thead>\n",
       "  <tbody>\n",
       "    <tr>\n",
       "      <th>0</th>\n",
       "      <td>2018-06-01-01:00</td>\n",
       "      <td>CMSG</td>\n",
       "      <td>0.4</td>\n",
       "      <td>0.898647</td>\n",
       "      <td>0.950336</td>\n",
       "      <td>1.035536</td>\n",
       "      <td>1.071879</td>\n",
       "      <td>0.720047</td>\n",
       "      <td>0.775791</td>\n",
       "      <td>0.869885</td>\n",
       "      <td>0.910827</td>\n",
       "      <td>0.662491</td>\n",
       "      <td>0.706216</td>\n",
       "      <td>0.779027</td>\n",
       "      <td>0.810350</td>\n",
       "    </tr>\n",
       "    <tr>\n",
       "      <th>1</th>\n",
       "      <td>2018-06-01-01:00</td>\n",
       "      <td>PIN004</td>\n",
       "      <td>0.2</td>\n",
       "      <td>7.989658</td>\n",
       "      <td>6.423741</td>\n",
       "      <td>5.337527</td>\n",
       "      <td>3.464023</td>\n",
       "      <td>13.262108</td>\n",
       "      <td>9.914991</td>\n",
       "      <td>7.745125</td>\n",
       "      <td>4.351938</td>\n",
       "      <td>8.047877</td>\n",
       "      <td>6.272011</td>\n",
       "      <td>5.075354</td>\n",
       "      <td>3.096594</td>\n",
       "    </tr>\n",
       "    <tr>\n",
       "      <th>2</th>\n",
       "      <td>2018-06-01-02:00</td>\n",
       "      <td>CMSG</td>\n",
       "      <td>0.2</td>\n",
       "      <td>2.316575</td>\n",
       "      <td>2.057989</td>\n",
       "      <td>1.657171</td>\n",
       "      <td>1.166097</td>\n",
       "      <td>2.545092</td>\n",
       "      <td>2.173530</td>\n",
       "      <td>1.628288</td>\n",
       "      <td>1.019111</td>\n",
       "      <td>1.955185</td>\n",
       "      <td>1.707816</td>\n",
       "      <td>1.333294</td>\n",
       "      <td>0.892255</td>\n",
       "    </tr>\n",
       "    <tr>\n",
       "      <th>3</th>\n",
       "      <td>2018-06-01-02:00</td>\n",
       "      <td>NSRS</td>\n",
       "      <td>2.8</td>\n",
       "      <td>26.740589</td>\n",
       "      <td>25.118143</td>\n",
       "      <td>21.500539</td>\n",
       "      <td>16.534742</td>\n",
       "      <td>66.395140</td>\n",
       "      <td>61.078967</td>\n",
       "      <td>49.641029</td>\n",
       "      <td>34.976114</td>\n",
       "      <td>32.009071</td>\n",
       "      <td>29.799314</td>\n",
       "      <td>24.947083</td>\n",
       "      <td>18.478841</td>\n",
       "    </tr>\n",
       "    <tr>\n",
       "      <th>4</th>\n",
       "      <td>2018-06-01-03:00</td>\n",
       "      <td>CMSG</td>\n",
       "      <td>0.2</td>\n",
       "      <td>5.971266</td>\n",
       "      <td>4.801238</td>\n",
       "      <td>4.734323</td>\n",
       "      <td>5.353180</td>\n",
       "      <td>8.994911</td>\n",
       "      <td>6.725314</td>\n",
       "      <td>6.600631</td>\n",
       "      <td>7.775424</td>\n",
       "      <td>5.769704</td>\n",
       "      <td>4.496865</td>\n",
       "      <td>4.425311</td>\n",
       "      <td>5.092368</td>\n",
       "    </tr>\n",
       "    <tr>\n",
       "      <th>...</th>\n",
       "      <td>...</td>\n",
       "      <td>...</td>\n",
       "      <td>...</td>\n",
       "      <td>...</td>\n",
       "      <td>...</td>\n",
       "      <td>...</td>\n",
       "      <td>...</td>\n",
       "      <td>...</td>\n",
       "      <td>...</td>\n",
       "      <td>...</td>\n",
       "      <td>...</td>\n",
       "      <td>...</td>\n",
       "      <td>...</td>\n",
       "      <td>...</td>\n",
       "      <td>...</td>\n",
       "    </tr>\n",
       "    <tr>\n",
       "      <th>2601</th>\n",
       "      <td>2018-09-20-16:00</td>\n",
       "      <td>TGSK</td>\n",
       "      <td>0.8</td>\n",
       "      <td>0.871279</td>\n",
       "      <td>1.291773</td>\n",
       "      <td>1.794893</td>\n",
       "      <td>1.963920</td>\n",
       "      <td>0.690957</td>\n",
       "      <td>1.168127</td>\n",
       "      <td>1.811173</td>\n",
       "      <td>2.042083</td>\n",
       "      <td>0.639483</td>\n",
       "      <td>1.002976</td>\n",
       "      <td>1.460664</td>\n",
       "      <td>1.618897</td>\n",
       "    </tr>\n",
       "    <tr>\n",
       "      <th>2602</th>\n",
       "      <td>2018-09-20-17:00</td>\n",
       "      <td>PAS003</td>\n",
       "      <td>2.6</td>\n",
       "      <td>7.637749</td>\n",
       "      <td>6.846747</td>\n",
       "      <td>5.652252</td>\n",
       "      <td>4.423040</td>\n",
       "      <td>12.489034</td>\n",
       "      <td>10.794950</td>\n",
       "      <td>8.359949</td>\n",
       "      <td>6.028410</td>\n",
       "      <td>7.644055</td>\n",
       "      <td>6.746207</td>\n",
       "      <td>5.418789</td>\n",
       "      <td>4.094371</td>\n",
       "    </tr>\n",
       "    <tr>\n",
       "      <th>2603</th>\n",
       "      <td>2018-09-20-17:00</td>\n",
       "      <td>TGSK</td>\n",
       "      <td>0.2</td>\n",
       "      <td>0.816687</td>\n",
       "      <td>1.046085</td>\n",
       "      <td>1.194923</td>\n",
       "      <td>1.347858</td>\n",
       "      <td>0.633844</td>\n",
       "      <td>0.881721</td>\n",
       "      <td>1.052838</td>\n",
       "      <td>1.236234</td>\n",
       "      <td>0.593899</td>\n",
       "      <td>0.788103</td>\n",
       "      <td>0.917506</td>\n",
       "      <td>1.052896</td>\n",
       "    </tr>\n",
       "    <tr>\n",
       "      <th>2604</th>\n",
       "      <td>2018-09-21-14:00</td>\n",
       "      <td>PIN003</td>\n",
       "      <td>2.4</td>\n",
       "      <td>3.570917</td>\n",
       "      <td>3.593265</td>\n",
       "      <td>3.415970</td>\n",
       "      <td>2.660618</td>\n",
       "      <td>4.531911</td>\n",
       "      <td>4.569766</td>\n",
       "      <td>4.271631</td>\n",
       "      <td>3.061153</td>\n",
       "      <td>3.206039</td>\n",
       "      <td>3.228980</td>\n",
       "      <td>3.047550</td>\n",
       "      <td>2.290418</td>\n",
       "    </tr>\n",
       "    <tr>\n",
       "      <th>2605</th>\n",
       "      <td>2018-09-21-17:00</td>\n",
       "      <td>CNDN</td>\n",
       "      <td>0.2</td>\n",
       "      <td>1.257301</td>\n",
       "      <td>1.274637</td>\n",
       "      <td>1.205704</td>\n",
       "      <td>1.054208</td>\n",
       "      <td>1.126750</td>\n",
       "      <td>1.147512</td>\n",
       "      <td>1.065522</td>\n",
       "      <td>0.890861</td>\n",
       "      <td>0.972446</td>\n",
       "      <td>0.987785</td>\n",
       "      <td>0.926973</td>\n",
       "      <td>0.795101</td>\n",
       "    </tr>\n",
       "  </tbody>\n",
       "</table>\n",
       "<p>2606 rows × 15 columns</p>\n",
       "</div>"
      ],
      "text/plain": [
       "             full_date    code  rain_truth   rr_MP_c1   rr_MP_c2   rr_MP_c3  \\\n",
       "0     2018-06-01-01:00    CMSG         0.4   0.898647   0.950336   1.035536   \n",
       "1     2018-06-01-01:00  PIN004         0.2   7.989658   6.423741   5.337527   \n",
       "2     2018-06-01-02:00    CMSG         0.2   2.316575   2.057989   1.657171   \n",
       "3     2018-06-01-02:00    NSRS         2.8  26.740589  25.118143  21.500539   \n",
       "4     2018-06-01-03:00    CMSG         0.2   5.971266   4.801238   4.734323   \n",
       "...                ...     ...         ...        ...        ...        ...   \n",
       "2601  2018-09-20-16:00    TGSK         0.8   0.871279   1.291773   1.794893   \n",
       "2602  2018-09-20-17:00  PAS003         2.6   7.637749   6.846747   5.652252   \n",
       "2603  2018-09-20-17:00    TGSK         0.2   0.816687   1.046085   1.194923   \n",
       "2604  2018-09-21-14:00  PIN003         2.4   3.570917   3.593265   3.415970   \n",
       "2605  2018-09-21-17:00    CNDN         0.2   1.257301   1.274637   1.205704   \n",
       "\n",
       "       rr_MP_c4   rr_RF_c1   rr_RF_c2   rr_RF_c3   rr_RF_c4   rr_SC_c1  \\\n",
       "0      1.071879   0.720047   0.775791   0.869885   0.910827   0.662491   \n",
       "1      3.464023  13.262108   9.914991   7.745125   4.351938   8.047877   \n",
       "2      1.166097   2.545092   2.173530   1.628288   1.019111   1.955185   \n",
       "3     16.534742  66.395140  61.078967  49.641029  34.976114  32.009071   \n",
       "4      5.353180   8.994911   6.725314   6.600631   7.775424   5.769704   \n",
       "...         ...        ...        ...        ...        ...        ...   \n",
       "2601   1.963920   0.690957   1.168127   1.811173   2.042083   0.639483   \n",
       "2602   4.423040  12.489034  10.794950   8.359949   6.028410   7.644055   \n",
       "2603   1.347858   0.633844   0.881721   1.052838   1.236234   0.593899   \n",
       "2604   2.660618   4.531911   4.569766   4.271631   3.061153   3.206039   \n",
       "2605   1.054208   1.126750   1.147512   1.065522   0.890861   0.972446   \n",
       "\n",
       "       rr_SC_c2   rr_SC_c3   rr_SC_c4  \n",
       "0      0.706216   0.779027   0.810350  \n",
       "1      6.272011   5.075354   3.096594  \n",
       "2      1.707816   1.333294   0.892255  \n",
       "3     29.799314  24.947083  18.478841  \n",
       "4      4.496865   4.425311   5.092368  \n",
       "...         ...        ...        ...  \n",
       "2601   1.002976   1.460664   1.618897  \n",
       "2602   6.746207   5.418789   4.094371  \n",
       "2603   0.788103   0.917506   1.052896  \n",
       "2604   3.228980   3.047550   2.290418  \n",
       "2605   0.987785   0.926973   0.795101  \n",
       "\n",
       "[2606 rows x 15 columns]"
      ]
     },
     "execution_count": 7,
     "metadata": {},
     "output_type": "execute_result"
    }
   ],
   "source": [
    "df"
   ]
  },
  {
   "cell_type": "code",
   "execution_count": null,
   "id": "1ece6f9a-4686-4a5e-8475-a7cd9d42afa3",
   "metadata": {},
   "outputs": [],
   "source": []
  },
  {
   "cell_type": "markdown",
   "id": "6d8dd8dc-3739-4845-9064-13d3b68dfc64",
   "metadata": {},
   "source": [
    "## Feature analysis"
   ]
  },
  {
   "cell_type": "markdown",
   "id": "16ade4b9-a459-4497-ac28-480cf46097f0",
   "metadata": {},
   "source": [
    "###  Correlation matrix analysis:"
   ]
  },
  {
   "cell_type": "code",
   "execution_count": 8,
   "id": "fa156cb3-8091-4873-9a7a-c7305e55b7f6",
   "metadata": {},
   "outputs": [
    {
     "data": {
      "image/png": "[encoded data removed]",
      "text/plain": [
       "<Figure size 1200x1000 with 2 Axes>"
      ]
     },
     "metadata": {},
     "output_type": "display_data"
    },
    {
     "name": "stdout",
     "output_type": "stream",
     "text": [
      "important_features_corr: ['rain_truth', 'rr_MP_c2', 'rr_SC_c2', 'rr_MP_c3', 'rr_MP_c4', 'rr_MP_c1', 'rr_RF_c2', 'rr_SC_c3', 'rr_SC_c1', 'rr_SC_c4', 'rr_RF_c3', 'rr_RF_c1']\n"
     ]
    }
   ],
   "source": [
    "import pandas as pd\n",
    "import seaborn as sns\n",
    "import matplotlib.pyplot as plt\n",
    "\n",
    "correlation_matrix = df.corr()\n",
    "\n",
    "# Create a mask for the lower triangular part\n",
    "mask = np.triu(np.ones_like(correlation_matrix, dtype=bool))\n",
    "\n",
    "# Set the font scale for the heatmap\n",
    "sns.set(font_scale=1.0)  # Adjust the font scale as needed\n",
    "\n",
    "plt.figure(figsize=(12, 10))\n",
    "sns.heatmap(correlation_matrix, annot=True, cmap='coolwarm', fmt=\".2f\", mask=mask)\n",
    "plt.title(\"Daily Correlation Matrix\")\n",
    "plt.show()\n",
    "\n",
    "# Identify features highly correlated with the target\n",
    "correlation_with_target = correlation_matrix['rain_truth'].abs().sort_values(ascending=False)\n",
    "important_features_corr = correlation_with_target[correlation_with_target > 0.20].index.tolist()\n",
    "print('important_features_corr:', important_features_corr)\n"
   ]
  },
  {
   "cell_type": "markdown",
   "id": "920d20a6-3b86-428c-836d-18ac353a4d2f",
   "metadata": {},
   "source": [
    "## ML GBR เหมาะใช้กับ ZR MP"
   ]
  },
  {
   "cell_type": "markdown",
   "id": "07b01a73-246b-434f-82dc-9e5d9f2a7405",
   "metadata": {},
   "source": [
    "### เตรียมข้อมูล"
   ]
  },
  {
   "cell_type": "code",
   "execution_count": 9,
   "id": "487a10da-1051-4737-bed0-4efec5d243ab",
   "metadata": {},
   "outputs": [
    {
     "name": "stdout",
     "output_type": "stream",
     "text": [
      "Training Set: 1824 rows\n",
      "Test Set: 782 rows\n"
     ]
    }
   ],
   "source": [
    "# แยกข้อมูล\n",
    "from sklearn.model_selection import train_test_split\n",
    "TargetVariable=['rain_truth']\n",
    "#Predictors=['rr_RF_c1', 'dBZ_p1', 'rr_SC_c1', 'rr_RF_p1', 'dBZ_c1', 'rr_MP_c1']\n",
    "#Predictors=['dBZ_c1', 'dBZ_c2', 'dBZ_c3', 'dBZ_c4']\n",
    "Predictors=['rr_MP_c1', 'rr_MP_c2', 'rr_MP_c3', 'rr_MP_c4']\n",
    "\n",
    "X=df[Predictors].values\n",
    "y=df[TargetVariable].values\n",
    "\n",
    "# Split data 70%-30% into training set and test set\n",
    "X_train, X_test, y_train, y_test = train_test_split(X, y, test_size=0.30, random_state=0)\n",
    "\n",
    "print ('Training Set: %d rows\\nTest Set: %d rows' % (X_train.shape[0], X_test.shape[0]))"
   ]
  },
  {
   "cell_type": "markdown",
   "id": "fe321b22-215f-4a8b-80b2-d043cb484e53",
   "metadata": {},
   "source": [
    "### ใช้แบบจำลอง Use GBR algorithm"
   ]
  },
  {
   "cell_type": "code",
   "execution_count": 10,
   "id": "a17397cc-8a88-4df9-b55f-17854b684247",
   "metadata": {},
   "outputs": [
    {
     "name": "stdout",
     "output_type": "stream",
     "text": [
      "Best parameter combination: {'learning_rate': 0.12005192452767675, 'max_depth': 3, 'min_samples_leaf': 4, 'min_samples_split': 5, 'n_estimators': 50, 'subsample': 0.8} \n",
      "\n",
      "GradientBoostingRegressor(learning_rate=0.12005192452767675, min_samples_leaf=4,\n",
      "                          min_samples_split=5, n_estimators=50, subsample=0.8) \n",
      "\n"
     ]
    }
   ],
   "source": [
    "# Use a Gradient Boosting algorithm\n",
    "alg = GradientBoostingRegressor()\n",
    "\n",
    "# Define the hyperparameter search space\n",
    "params = {\n",
    "    'learning_rate': uniform(0.01, 1.0),\n",
    "    'n_estimators': [50, 100, 150, 200],\n",
    "    'max_depth': [3, 5, 7],\n",
    "    'subsample': [0.8, 0.9, 1.0],\n",
    "    'min_samples_split': [2, 5, 10],\n",
    "    'min_samples_leaf': [1, 2, 4]\n",
    "}\n",
    "\n",
    "# Define RMSE as the scoring metric (negative MSE)\n",
    "score = 'neg_mean_squared_error'\n",
    "random_search = RandomizedSearchCV(alg, params, n_iter=50, scoring=score, cv=5, random_state=42, return_train_score=True)\n",
    "random_search.fit(X_train, y_train)\n",
    "\n",
    "print(\"Best parameter combination:\", random_search.best_params_, \"\\n\")\n",
    "\n",
    "# Get the best model\n",
    "best_model_GradientBoostingRegressor = random_search.best_estimator_\n",
    "print(best_model_GradientBoostingRegressor, \"\\n\")\n",
    "\n",
    "# Evaluate the model using the test data\n",
    "predictions_GradientBoostingRegressor = best_model_GradientBoostingRegressor.predict(X_test)"
   ]
  },
  {
   "cell_type": "code",
   "execution_count": 11,
   "id": "c73909cb-9f8e-48e9-8bea-703d13bcbb96",
   "metadata": {},
   "outputs": [],
   "source": [
    "before_adjust_MP=np.sum(y_test.flatten())/np.sum(X_test[:,1])\n",
    "after_adjust_MP=np.sum(y_test.flatten())/np.sum(best_model_GradientBoostingRegressor.predict(X_test).flatten())\n",
    "\n",
    "#std_before_adjust_MP=np.std(y_test.flatten()-X_test[:,1])\n",
    "#std_after_adjust_MP=np.std(y_test.flatten()-best_model_GradientBoostingRegressor.predict(X_test).flatten())\n",
    "\n",
    "std_before_adjust_MP=np.std(np.abs(y_test.flatten()-X_test[:,1]))\n",
    "std_after_adjust_MP=np.std(np.abs(y_test.flatten()-best_model_GradientBoostingRegressor.predict(X_test).flatten()))"
   ]
  },
  {
   "cell_type": "markdown",
   "id": "e93dae77-cdd9-48f8-9a75-57c3331120a5",
   "metadata": {},
   "source": [
    "## ML GBR เหมาะสมใช้กับ ZR RF"
   ]
  },
  {
   "cell_type": "markdown",
   "id": "bda23040-9bfa-4c4d-a881-627cd88d2222",
   "metadata": {},
   "source": [
    "### เตรียมข้อมูล"
   ]
  },
  {
   "cell_type": "code",
   "execution_count": 12,
   "id": "070c891f-59b3-4555-8af1-5bb0447ecf0f",
   "metadata": {},
   "outputs": [
    {
     "name": "stdout",
     "output_type": "stream",
     "text": [
      "Training Set: 1824 rows\n",
      "Test Set: 782 rows\n"
     ]
    }
   ],
   "source": [
    "# แยกข้อมูล\n",
    "from sklearn.model_selection import train_test_split\n",
    "TargetVariable=['rain_truth']\n",
    "#Predictors=['rr_RF_c1', 'dBZ_p1', 'rr_SC_c1', 'rr_RF_p1', 'dBZ_c1', 'rr_MP_c1']\n",
    "#Predictors=['dBZ_c1', 'dBZ_c2', 'dBZ_c3', 'dBZ_c4']\n",
    "Predictors=['rr_RF_c1', 'rr_RF_c2', 'rr_RF_c3', 'rr_RF_c4']\n",
    "\n",
    "X=df[Predictors].values\n",
    "y=df[TargetVariable].values\n",
    "\n",
    "# Split data 70%-30% into training set and test set\n",
    "X_train, X_test, y_train, y_test = train_test_split(X, y, test_size=0.30, random_state=0)\n",
    "\n",
    "print ('Training Set: %d rows\\nTest Set: %d rows' % (X_train.shape[0], X_test.shape[0]))"
   ]
  },
  {
   "cell_type": "markdown",
   "id": "9f9d026e-98f9-46f3-a3a8-77c19e711a5d",
   "metadata": {},
   "source": [
    "### ใช้แบบจำลอง Use GBR algorithm"
   ]
  },
  {
   "cell_type": "code",
   "execution_count": 13,
   "id": "b79dc474-d617-4606-a479-c08aa3fbb33b",
   "metadata": {},
   "outputs": [
    {
     "name": "stdout",
     "output_type": "stream",
     "text": [
      "Best parameter combination: {'learning_rate': 0.12005192452767675, 'max_depth': 3, 'min_samples_leaf': 4, 'min_samples_split': 5, 'n_estimators': 50, 'subsample': 0.8} \n",
      "\n",
      "GradientBoostingRegressor(learning_rate=0.12005192452767675, min_samples_leaf=4,\n",
      "                          min_samples_split=5, n_estimators=50, subsample=0.8) \n",
      "\n"
     ]
    }
   ],
   "source": [
    "# Use a Gradient Boosting algorithm\n",
    "alg = GradientBoostingRegressor()\n",
    "\n",
    "# Define the hyperparameter search space\n",
    "params = {\n",
    "    'learning_rate': uniform(0.01, 1.0),\n",
    "    'n_estimators': [50, 100, 150, 200],\n",
    "    'max_depth': [3, 5, 7],\n",
    "    'subsample': [0.8, 0.9, 1.0],\n",
    "    'min_samples_split': [2, 5, 10],\n",
    "    'min_samples_leaf': [1, 2, 4]\n",
    "}\n",
    "\n",
    "# Define RMSE as the scoring metric (negative MSE)\n",
    "score = 'neg_mean_squared_error'\n",
    "random_search = RandomizedSearchCV(alg, params, n_iter=50, scoring=score, cv=5, random_state=42, return_train_score=True)\n",
    "random_search.fit(X_train, y_train)\n",
    "\n",
    "print(\"Best parameter combination:\", random_search.best_params_, \"\\n\")\n",
    "\n",
    "# Get the best model\n",
    "best_model_GradientBoostingRegressor = random_search.best_estimator_\n",
    "print(best_model_GradientBoostingRegressor, \"\\n\")\n",
    "\n",
    "# Evaluate the model using the test data\n",
    "predictions_GradientBoostingRegressor = best_model_GradientBoostingRegressor.predict(X_test)"
   ]
  },
  {
   "cell_type": "code",
   "execution_count": 14,
   "id": "35284d3c-01f0-4046-8c71-2e6635acff29",
   "metadata": {},
   "outputs": [],
   "source": [
    "before_adjust_RF=np.sum(y_test.flatten())/np.sum(X_test[:,1])\n",
    "after_adjust_RF=np.sum(y_test.flatten())/np.sum(best_model_GradientBoostingRegressor.predict(X_test).flatten())\n",
    "\n",
    "#std_before_adjust_RF=np.std(y_test.flatten()-X_test[:,1])\n",
    "#std_after_adjust_RF=np.std(y_test.flatten()-best_model_GradientBoostingRegressor.predict(X_test).flatten())\n",
    "\n",
    "std_before_adjust_RF=np.std(np.abs(y_test.flatten()-X_test[:,1]))\n",
    "std_after_adjust_RF=np.std(np.abs(y_test.flatten()-best_model_GradientBoostingRegressor.predict(X_test).flatten()))"
   ]
  },
  {
   "cell_type": "markdown",
   "id": "3327f3a6-331d-4591-b56b-a0b46dd1d6be",
   "metadata": {},
   "source": [
    "### ML GBR เหมาะสมใช้กับ ZR SC"
   ]
  },
  {
   "cell_type": "markdown",
   "id": "fd0d5b47-6613-4173-94cf-494a2de3506e",
   "metadata": {},
   "source": [
    "### เตรียมข้อมูล"
   ]
  },
  {
   "cell_type": "code",
   "execution_count": 15,
   "id": "3d4d4280-03b0-4cca-a9da-5e400077fbdc",
   "metadata": {},
   "outputs": [
    {
     "name": "stdout",
     "output_type": "stream",
     "text": [
      "Training Set: 1824 rows\n",
      "Test Set: 782 rows\n"
     ]
    }
   ],
   "source": [
    "# แยกข้อมูล\n",
    "from sklearn.model_selection import train_test_split\n",
    "TargetVariable=['rain_truth']\n",
    "#Predictors=['rr_RF_c1', 'dBZ_p1', 'rr_SC_c1', 'rr_RF_p1', 'dBZ_c1', 'rr_MP_c1']\n",
    "#Predictors=['dBZ_c1', 'dBZ_c2', 'dBZ_c3', 'dBZ_c4']\n",
    "Predictors=['rr_SC_c1', 'rr_SC_c2', 'rr_SC_c3', 'rr_SC_c4']\n",
    "\n",
    "X=df[Predictors].values\n",
    "y=df[TargetVariable].values\n",
    "\n",
    "# Split data 70%-30% into training set and test set\n",
    "X_train, X_test, y_train, y_test = train_test_split(X, y, test_size=0.30, random_state=0)\n",
    "\n",
    "print ('Training Set: %d rows\\nTest Set: %d rows' % (X_train.shape[0], X_test.shape[0]))"
   ]
  },
  {
   "cell_type": "markdown",
   "id": "f9372eb6-4159-4153-9dd2-98a2a9b1ba7f",
   "metadata": {},
   "source": [
    "### ใช้แบบจำลอง Use GBR algorithm"
   ]
  },
  {
   "cell_type": "code",
   "execution_count": 16,
   "id": "741277ce-3e99-4646-99cd-161968e21264",
   "metadata": {},
   "outputs": [
    {
     "name": "stdout",
     "output_type": "stream",
     "text": [
      "Best parameter combination: {'learning_rate': 0.12005192452767675, 'max_depth': 3, 'min_samples_leaf': 4, 'min_samples_split': 5, 'n_estimators': 50, 'subsample': 0.8} \n",
      "\n",
      "GradientBoostingRegressor(learning_rate=0.12005192452767675, min_samples_leaf=4,\n",
      "                          min_samples_split=5, n_estimators=50, subsample=0.8) \n",
      "\n"
     ]
    }
   ],
   "source": [
    "# Use a Gradient Boosting algorithm\n",
    "alg = GradientBoostingRegressor()\n",
    "\n",
    "# Define the hyperparameter search space\n",
    "params = {\n",
    "    'learning_rate': uniform(0.01, 1.0),\n",
    "    'n_estimators': [50, 100, 150, 200],\n",
    "    'max_depth': [3, 5, 7],\n",
    "    'subsample': [0.8, 0.9, 1.0],\n",
    "    'min_samples_split': [2, 5, 10],\n",
    "    'min_samples_leaf': [1, 2, 4]\n",
    "}\n",
    "\n",
    "# Define RMSE as the scoring metric (negative MSE)\n",
    "score = 'neg_mean_squared_error'\n",
    "random_search = RandomizedSearchCV(alg, params, n_iter=50, scoring=score, cv=5, random_state=42, return_train_score=True)\n",
    "random_search.fit(X_train, y_train)\n",
    "\n",
    "print(\"Best parameter combination:\", random_search.best_params_, \"\\n\")\n",
    "\n",
    "# Get the best model\n",
    "best_model_GradientBoostingRegressor = random_search.best_estimator_\n",
    "print(best_model_GradientBoostingRegressor, \"\\n\")\n",
    "\n",
    "# Evaluate the model using the test data\n",
    "predictions_GradientBoostingRegressor = best_model_GradientBoostingRegressor.predict(X_test)"
   ]
  },
  {
   "cell_type": "code",
   "execution_count": 17,
   "id": "c055e873-5997-4b91-87d6-fb458cd0b97f",
   "metadata": {},
   "outputs": [],
   "source": [
    "before_adjust_SC=np.sum(y_test.flatten())/np.sum(X_test[:,1])\n",
    "after_adjust_SC=np.sum(y_test.flatten())/np.sum(best_model_GradientBoostingRegressor.predict(X_test).flatten())\n",
    "\n",
    "#std_before_adjust_SC=np.std(y_test.flatten()-X_test[:,1])\n",
    "#std_after_adjust_SC=np.std(y_test.flatten()-best_model_GradientBoostingRegressor.predict(X_test).flatten())\n",
    "\n",
    "std_before_adjust_SC=np.std(np.abs(y_test.flatten()-X_test[:,1]))\n",
    "std_after_adjust_SC=np.std(np.abs(y_test.flatten()-best_model_GradientBoostingRegressor.predict(X_test).flatten()))"
   ]
  },
  {
   "cell_type": "markdown",
   "id": "6af77394-724d-4f77-b16e-4311e0afe4c2",
   "metadata": {},
   "source": [
    "## พลอตกราฟแท่งเปรียบเทียบค่า MFB ก่อนและหลัง การทำนายด้วยแบบจำลองที่ดีที่สุด"
   ]
  },
  {
   "cell_type": "code",
   "execution_count": 18,
   "id": "4c154c5a-8dc6-47bc-920e-0a3a27d56106",
   "metadata": {},
   "outputs": [
    {
     "name": "stdout",
     "output_type": "stream",
     "text": [
      "1.2034575336846227\n",
      "1.1052122748265887\n",
      "0.845748338228572\n",
      "1.0963793760497733\n",
      "1.300355268307017\n",
      "1.10345656361741\n"
     ]
    }
   ],
   "source": [
    "print(before_adjust_MP)\n",
    "print(after_adjust_MP)\n",
    "print(before_adjust_RF)\n",
    "print(after_adjust_RF)\n",
    "print(before_adjust_SC)\n",
    "print(after_adjust_SC)\n"
   ]
  },
  {
   "cell_type": "code",
   "execution_count": 19,
   "id": "f1d109bd-0dc8-4581-ac09-92e00df4f92d",
   "metadata": {},
   "outputs": [
    {
     "data": {
      "text/plain": [
       "'\\n#### รวม dataframe by concat\\nframes = [stat_mp_df,stat_rf_df,stat_sc_df]\\ndf_zr= pd.concat(frames)\\n#print(df_zr)\\n\\n#### rename columns # bias,rmse,mse,mae,r2,r_value\\ndf_zr.rename(columns={0: \"bias\", 1: \"rmse\",2:\"mse\",3:\"mae\", 4:\"r2\", 5:\"r\"}, inplace=True)\\n'"
      ]
     },
     "execution_count": 19,
     "metadata": {},
     "output_type": "execute_result"
    }
   ],
   "source": [
    "'''\n",
    "#### รวม dataframe by concat\n",
    "frames = [stat_mp_df,stat_rf_df,stat_sc_df]\n",
    "df_zr= pd.concat(frames)\n",
    "#print(df_zr)\n",
    "\n",
    "#### rename columns # bias,rmse,mse,mae,r2,r_value\n",
    "df_zr.rename(columns={0: \"bias\", 1: \"rmse\",2:\"mse\",3:\"mae\", 4:\"r2\", 5:\"r\"}, inplace=True)\n",
    "'''"
   ]
  },
  {
   "cell_type": "code",
   "execution_count": 20,
   "id": "261ebbb9-09a0-4f30-a49f-02344407bbe3",
   "metadata": {},
   "outputs": [
    {
     "name": "stdout",
     "output_type": "stream",
     "text": [
      "8.163583351149649\n",
      "-29.634233552991713\n",
      "15.141916173874312\n"
     ]
    }
   ],
   "source": [
    "# คำนวณเปอร์เซ็นต์การปรับแก้\n",
    "pc_ZR_MP=((before_adjust_MP-after_adjust_MP)/before_adjust_MP)*100\n",
    "pc_ZR_RF=((before_adjust_RF-after_adjust_RF)/before_adjust_RF)*100\n",
    "pc_ZR_SC=((before_adjust_SC-after_adjust_SC)/before_adjust_SC)*100\n",
    "print(pc_ZR_MP)\n",
    "print(pc_ZR_RF)\n",
    "print(pc_ZR_SC)"
   ]
  },
  {
   "cell_type": "code",
   "execution_count": 21,
   "id": "3b611f17-2c73-40ff-9150-525fb533b6a5",
   "metadata": {},
   "outputs": [
    {
     "data": {
      "image/png": "[encoded data removed]",
      "text/plain": [
       "<Figure size 1000x600 with 1 Axes>"
      ]
     },
     "metadata": {},
     "output_type": "display_data"
    }
   ],
   "source": [
    "import numpy as np\n",
    "import matplotlib.pyplot as plt\n",
    "\n",
    "# Data\n",
    "values = np.array([[before_adjust_MP, after_adjust_MP], \n",
    "                   [before_adjust_RF, after_adjust_RF], \n",
    "                   [before_adjust_SC, after_adjust_SC]])\n",
    "labels = ['ZR-MP', 'ZR-RF', 'ZR-SC']\n",
    "before_values = values[:, 0]\n",
    "after_values = values[:, 1]\n",
    "\n",
    "# Enlarge the figure plot\n",
    "plt.figure(figsize=(10, 6))  \n",
    "\n",
    "# Plot\n",
    "bar_width = 0.35\n",
    "index = np.arange(len(labels))\n",
    "plt.bar(index, before_values, bar_width, label='Before', color='skyblue',hatch='xx')  \n",
    "plt.bar(index + bar_width, after_values, bar_width, label='After', color='salmon',hatch='..')  \n",
    "\n",
    "plt.ylim(0, 1.4)\n",
    "plt.axhline(y=1.0, color='black', linestyle='--')\n",
    "\n",
    "plt.xlabel('ZR relationship', fontsize=16)  \n",
    "plt.ylabel('Mean Field Bias (mm)', fontsize=16) \n",
    "plt.title('Hourly MFB adjustment by ML models for each ZR', fontsize=18)  \n",
    "plt.xticks(index + bar_width / 2, labels, fontsize=16)  \n",
    "plt.yticks(fontsize=16) \n",
    "plt.legend(fontsize=16)  \n",
    "\n",
    "plt.show()\n",
    "\n"
   ]
  },
  {
   "cell_type": "code",
   "execution_count": 22,
   "id": "8cedad52-7b95-47d5-bc48-446ff074f762",
   "metadata": {},
   "outputs": [
    {
     "data": {
      "image/png": "[encoded data removed]",
      "text/plain": [
       "<Figure size 1000x600 with 1 Axes>"
      ]
     },
     "metadata": {},
     "output_type": "display_data"
    }
   ],
   "source": [
    "import numpy as np\n",
    "import matplotlib.pyplot as plt\n",
    "\n",
    "# Data\n",
    "values = np.array([[before_adjust_MP, after_adjust_MP], \n",
    "                   [before_adjust_RF, after_adjust_RF], \n",
    "                   [before_adjust_SC, after_adjust_SC]])\n",
    "std_error_bar = np.array([[std_before_adjust_MP, std_after_adjust_MP], \n",
    "                          [std_before_adjust_RF, std_after_adjust_RF], \n",
    "                          [std_before_adjust_SC, std_after_adjust_SC]])\n",
    "labels = ['ZR-MP', 'ZR-RF', 'ZR-SC']\n",
    "before_values = values[:, 0]\n",
    "after_values = values[:, 1]\n",
    "std_before_values = std_error_bar[:, 0]\n",
    "std_after_values = std_error_bar[:, 1]\n",
    "\n",
    "# Enlarge the figure plot\n",
    "plt.figure(figsize=(10, 6))  \n",
    "\n",
    "# Plot\n",
    "bar_width = 0.35\n",
    "index = np.arange(len(labels))\n",
    "plt.bar(index, before_values, bar_width, yerr=std_before_values, capsize=5, label='Before', color='skyblue')  \n",
    "plt.bar(index + bar_width, after_values, bar_width, yerr=std_after_values, capsize=5, label='After', color='salmon')  \n",
    "\n",
    "plt.axhline(y=1.0, color='black', linestyle='--')\n",
    "\n",
    "plt.xlabel('ZR relationship', fontsize=16)  \n",
    "plt.ylabel('Mean Field Bias (mm)', fontsize=16) \n",
    "plt.title('MFB adjustment by ML models for each ZR', fontsize=18)  \n",
    "plt.xticks(index + bar_width / 2, labels, fontsize=16)  \n",
    "plt.yticks(fontsize=16) \n",
    "plt.legend(fontsize=16)  \n",
    "\n",
    "plt.show()\n"
   ]
  },
  {
   "cell_type": "code",
   "execution_count": 23,
   "id": "888a7719-421d-40ea-abf7-8568958271c0",
   "metadata": {},
   "outputs": [
    {
     "data": {
      "text/plain": [
       "2.3110360310675815"
      ]
     },
     "execution_count": 23,
     "metadata": {},
     "output_type": "execute_result"
    }
   ],
   "source": [
    "np.mean(best_model_GradientBoostingRegressor.predict(X_test).flatten())"
   ]
  },
  {
   "cell_type": "code",
   "execution_count": 24,
   "id": "ea785b73-3c6c-4ca9-94e0-c9bb801be62b",
   "metadata": {},
   "outputs": [
    {
     "data": {
      "text/plain": [
       "2.1842553704112246"
      ]
     },
     "execution_count": 24,
     "metadata": {},
     "output_type": "execute_result"
    }
   ],
   "source": [
    "np.std(best_model_GradientBoostingRegressor.predict(X_test).flatten())"
   ]
  },
  {
   "cell_type": "code",
   "execution_count": 25,
   "id": "b63f1e7f-8318-4624-b6a5-b8099ad8de9a",
   "metadata": {},
   "outputs": [
    {
     "data": {
      "text/plain": [
       "1.9611008924952964"
      ]
     },
     "execution_count": 25,
     "metadata": {},
     "output_type": "execute_result"
    }
   ],
   "source": [
    "np.mean(X_test[:,1])"
   ]
  },
  {
   "cell_type": "code",
   "execution_count": 26,
   "id": "512edc14-73fe-4925-959d-88f308ca5706",
   "metadata": {},
   "outputs": [
    {
     "data": {
      "text/plain": [
       "3.9722717690674427"
      ]
     },
     "execution_count": 26,
     "metadata": {},
     "output_type": "execute_result"
    }
   ],
   "source": [
    "np.std(X_test[:,1])"
   ]
  },
  {
   "cell_type": "code",
   "execution_count": null,
   "id": "7b29104b-9c73-4277-8d42-c08e8602599d",
   "metadata": {},
   "outputs": [],
   "source": []
  },
  {
   "cell_type": "code",
   "execution_count": 27,
   "id": "35a39b8b-bf24-4bca-8b66-f83a466f1e46",
   "metadata": {},
   "outputs": [
    {
     "data": {
      "text/plain": [
       "2.341622535108452"
      ]
     },
     "execution_count": 27,
     "metadata": {},
     "output_type": "execute_result"
    }
   ],
   "source": [
    "np.mean(y_test.flatten()/X_test[:,1])"
   ]
  },
  {
   "cell_type": "code",
   "execution_count": 28,
   "id": "797bc9f8-5355-4022-ba79-30224ab4ee0b",
   "metadata": {},
   "outputs": [
    {
     "data": {
      "text/plain": [
       "5.019050689135209"
      ]
     },
     "execution_count": 28,
     "metadata": {},
     "output_type": "execute_result"
    }
   ],
   "source": [
    "np.std(y_test.flatten()/X_test[:,1])"
   ]
  },
  {
   "cell_type": "code",
   "execution_count": 29,
   "id": "bba997ba-86cb-4a4f-b333-d6ac0b00ec85",
   "metadata": {},
   "outputs": [
    {
     "data": {
      "text/plain": [
       "1.522907325909845"
      ]
     },
     "execution_count": 29,
     "metadata": {},
     "output_type": "execute_result"
    }
   ],
   "source": [
    "np.mean(y_test.flatten()/best_model_GradientBoostingRegressor.predict(X_test))"
   ]
  },
  {
   "cell_type": "code",
   "execution_count": 30,
   "id": "9e6c0cb1-f22a-4dac-83ef-aa7f837119c9",
   "metadata": {},
   "outputs": [
    {
     "data": {
      "text/plain": [
       "9.24084334189894"
      ]
     },
     "execution_count": 30,
     "metadata": {},
     "output_type": "execute_result"
    }
   ],
   "source": [
    "np.std(y_test.flatten()/best_model_GradientBoostingRegressor.predict(X_test))"
   ]
  },
  {
   "cell_type": "code",
   "execution_count": 31,
   "id": "80aca3da-fd41-414c-b08c-c826386287d2",
   "metadata": {},
   "outputs": [],
   "source": [
    "y_test.flatten()- X_test[:,1]\n",
    "after_adjust_SC=np.sum(y_test.flatten())/np.sum(best_model_GradientBoostingRegressor.predict(X_test).flatten())"
   ]
  },
  {
   "cell_type": "code",
   "execution_count": 32,
   "id": "8473bc9f-32a6-4ef1-9e12-32b904f25754",
   "metadata": {},
   "outputs": [],
   "source": [
    "before_adjust_SC=np.mean(y_test.flatten())-np.sum(X_test[:,1])\n",
    "after_adjust_SC=np.sum(y_test.flatten())/np.sum(best_model_GradientBoostingRegressor.predict(X_test).flatten())"
   ]
  },
  {
   "cell_type": "code",
   "execution_count": null,
   "id": "dece4ea3-6676-4f9f-9fce-c98f7c769569",
   "metadata": {},
   "outputs": [],
   "source": []
  }
 ],
 "metadata": {
  "kernelspec": {
   "display_name": "Python 3 (ipykernel)",
   "language": "python",
   "name": "python3"
  },
  "language_info": {
   "codemirror_mode": {
    "name": "ipython",
    "version": 3
   },
   "file_extension": ".py",
   "mimetype": "text/x-python",
   "name": "python",
   "nbconvert_exporter": "python",
   "pygments_lexer": "ipython3",
   "version": "3.10.6"
  }
 },
 "nbformat": 4,
 "nbformat_minor": 5
}
